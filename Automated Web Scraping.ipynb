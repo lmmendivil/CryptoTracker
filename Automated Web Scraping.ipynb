{
 "cells": [
  {
   "cell_type": "markdown",
   "id": "0d98e9ed-5cc1-426a-b474-45e2572a654a",
   "metadata": {},
   "source": [
    "# Let's Put All Together"
   ]
  },
  {
   "cell_type": "code",
   "execution_count": null,
   "id": "d551f4ba-725c-41df-bc75-2cd93a8b76da",
   "metadata": {},
   "outputs": [
    {
     "name": "stdout",
     "output_type": "stream",
     "text": [
      "  Crypto Name      Price                  TimeStamp\n",
      "0     Bitcoin  62,152.56 2024-05-03 13:14:18.082639\n",
      "  Crypto Name      Price                  TimeStamp\n",
      "0     Bitcoin  62,152.56 2024-05-03 13:15:19.262022\n"
     ]
    }
   ],
   "source": [
    "from bs4 import BeautifulSoup\n",
    "import requests\n",
    "import re \n",
    "from datetime import datetime \n",
    "import pandas as pd\n",
    "import os\n",
    "import time\n",
    "\n",
    "def automated_web_scrapped():\n",
    "        \n",
    "        url = 'https://coinmarketcap.com/currencies/bitcoin/'\n",
    "        \n",
    "        page = requests.get(url)\n",
    "        \n",
    "        soup = BeautifulSoup(page.text, 'html')\n",
    "        \n",
    "        bitcoin_title = soup.find('span','sc-f70bb44c-0 jltoa').text\n",
    "        \n",
    "        bitcoin_title1 = re.findall(r'[A-z]+', bitcoin_title) \n",
    "        \n",
    "        list = re.findall(r'[A-z]+', bitcoin_title) \n",
    "        bitcoin_title_cleaned = list[0]\n",
    "        \n",
    "        price = soup.find('span', class_ = 'sc-f70bb44c-0 jxpCgO base-text').text\n",
    "        \n",
    "        final_price = price.replace('$', '')\n",
    "        \n",
    "        \n",
    "        \n",
    "        dt = datetime.now()\n",
    "        \n",
    "        \n",
    "        dict = {'Crypto Name': bitcoin_title_cleaned,\n",
    "               'Price': final_price,\n",
    "               'TimeStamp': dt}\n",
    "        \n",
    "        df = pd.DataFrame([dict])\n",
    "        \n",
    "        \n",
    "        if os.path.exists(r'H:\\Mi unidad\\PARTICULAR\\PERSONAL DEVELOPMENT\\CURSOS PROFESIONALES\\Data Analysis\\PORFTOLIO\\6. PYTHON - AUTOMATED WEB SCRAPING\\crypto.csv'):\n",
    "            df.to_csv(r'H:\\Mi unidad\\PARTICULAR\\PERSONAL DEVELOPMENT\\CURSOS PROFESIONALES\\Data Analysis\\PORFTOLIO\\6. PYTHON - AUTOMATED WEB SCRAPING\\crypto.csv', mode = 'a', header = False, index = False)\n",
    "        else:\n",
    "             df.to_csv(r'H:\\Mi unidad\\PARTICULAR\\PERSONAL DEVELOPMENT\\CURSOS PROFESIONALES\\Data Analysis\\PORFTOLIO\\6. PYTHON - AUTOMATED WEB SCRAPING\\crypto.csv', index = False)\n",
    "\n",
    "        print(df)\n",
    "\n",
    "while True:\n",
    "    automated_web_scrapped()\n",
    "    time.sleep(60)\n",
    "            "
   ]
  },
  {
   "cell_type": "code",
   "execution_count": null,
   "id": "d250b338-8e4d-4b2c-bbdb-a1a08934e91d",
   "metadata": {},
   "outputs": [],
   "source": []
  }
 ],
 "metadata": {
  "kernelspec": {
   "display_name": "Python 3 (ipykernel)",
   "language": "python",
   "name": "python3"
  },
  "language_info": {
   "codemirror_mode": {
    "name": "ipython",
    "version": 3
   },
   "file_extension": ".py",
   "mimetype": "text/x-python",
   "name": "python",
   "nbconvert_exporter": "python",
   "pygments_lexer": "ipython3",
   "version": "3.11.7"
  }
 },
 "nbformat": 4,
 "nbformat_minor": 5
}
